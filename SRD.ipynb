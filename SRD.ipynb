{
 "cells": [
  {
   "cell_type": "markdown",
   "metadata": {},
   "source": [
    "# Speech Recognition Of Digits "
   ]
  },
  {
   "cell_type": "markdown",
   "metadata": {},
   "source": [
    "## Importing Libraries"
   ]
  },
  {
   "cell_type": "code",
   "execution_count": 3,
   "metadata": {},
   "outputs": [],
   "source": [
    "import librosa\n",
    "import glob\n",
    "import os\n",
    "import shutil\n",
    "import numpy as np\n",
    "import pickle"
   ]
  },
  {
   "cell_type": "markdown",
   "metadata": {},
   "source": [
    "## A Function for converting Wav to MFCC"
   ]
  },
  {
   "cell_type": "code",
   "execution_count": 4,
   "metadata": {},
   "outputs": [],
   "source": [
    "def wav2mfcc(file_path, max_len=8):\n",
    "    wave, sr = librosa.load(file_path, mono=True, sr=16000)\n",
    "    amplitude = []\n",
    "    for i in wave:\n",
    "        if abs(i)>0.009:\n",
    "            amplitude.append(i)\n",
    "    mfcc = librosa.feature.mfcc(np.asarray(amplitude))\n",
    "    # If maximum length exceeds mfcc lengths then pad the remaining ones\n",
    "    if (max_len > mfcc.shape[1]):\n",
    "        pad_width = max_len - mfcc.shape[1]\n",
    "        mfcc = np.pad(mfcc, pad_width=((0, 0), (0, pad_width)), mode='constant')\n",
    "    # Else cutoff the remaining parts\n",
    "    else:\n",
    "        mfcc = mfcc[:, :max_len]\n",
    "    \n",
    "    return mfcc"
   ]
  },
  {
   "cell_type": "markdown",
   "metadata": {},
   "source": [
    "## Visualising MFCC"
   ]
  },
  {
   "cell_type": "code",
   "execution_count": 5,
   "metadata": {},
   "outputs": [
    {
     "data": {
      "image/png": "[encoded data removed]",
      "text/plain": [
       "<Figure size 432x288 with 1 Axes>"
      ]
     },
     "metadata": {
      "needs_background": "light"
     },
     "output_type": "display_data"
    }
   ],
   "source": [
    "mfccs = wav2mfcc('test/one.wav')\n",
    "import matplotlib.pyplot as plt\n",
    "import numpy as np\n",
    "from matplotlib import cm\n",
    "fig, ax = plt.subplots()\n",
    "mfcc_data= np.swapaxes(mfccs, 0 ,1)\n",
    "cax = ax.imshow(mfccs, interpolation='nearest', cmap=cm.coolwarm, origin='lower')\n",
    "ax.set_title('MFCC')\n",
    "plt.xlabel('Time (s)')\n",
    "plt.ylabel('MFCC Coeficients')\n",
    "plt.show()"
   ]
  },
  {
   "cell_type": "markdown",
   "metadata": {},
   "source": [
    "## Saving MFCC Data for Furture Use"
   ]
  },
  {
   "cell_type": "markdown",
   "metadata": {},
   "source": [
    "### The saved data is in pickle file which is availbale in GItHub (Can Skip)"
   ]
  },
  {
   "cell_type": "code",
   "execution_count": 6,
   "metadata": {},
   "outputs": [],
   "source": [
    "#  SPEECH TO IMAGE ......  (Optional)\n",
    "\n",
    "# data = []\n",
    "# label = []\n",
    "# files_name = ['zero','one','two','three','four','five','six','seven','eight','nine']\n",
    "# for name in files_name:\n",
    "#     for i in glob.glob('Digit_data/'+name+'/*'):\n",
    "#         data.append(wav2mfcc(i))\n",
    "#         if name=='zero':\n",
    "#             label.append(0)\n",
    "#         elif name=='one':\n",
    "#             label.append(1)\n",
    "#         elif name=='two':\n",
    "#             label.append(2)\n",
    "#         elif name=='three':\n",
    "#             label.append(3)\n",
    "#         elif name=='four':\n",
    "#             label.append(4)\n",
    "#         elif name=='five':\n",
    "#             label.append(5)\n",
    "#         elif name=='six':\n",
    "#             label.append(6)\n",
    "#         elif name=='seven':\n",
    "#             label.append(7)\n",
    "#         elif name=='eight':\n",
    "#             label.append(8)\n",
    "#         elif name=='nine':\n",
    "#             label.append(9)\n",
    "\n",
    "\n"
   ]
  },
  {
   "cell_type": "code",
   "execution_count": 7,
   "metadata": {},
   "outputs": [],
   "source": [
    "#  SPEECH TO IMAGE ......  2 (Data Generation)\n",
    "\n",
    "\n",
    "# with open(\"Data_.pkl\", \"wb\") as fp:   #Pickling\n",
    "#     pickle.dump(data, fp)\n",
    "with open(\"Data_.pkl\", \"rb\") as fp:   # Unpickling\n",
    "    data_ = pickle.load(fp)\n",
    "# print(np.asarray(data).shape)"
   ]
  },
  {
   "cell_type": "code",
   "execution_count": 8,
   "metadata": {},
   "outputs": [],
   "source": [
    "#  SPEECH TO IMAGE ......  3 (Data Generation)\n",
    "\n",
    "\n",
    "# with open(\"Label.pkl\", \"wb\") as fp:   #Pickling\n",
    "#     pickle.dump(label, fp)\n",
    "with open(\"Label.pkl\", \"rb\") as fp:   # Unpickling\n",
    "    labels = pickle.load(fp)"
   ]
  },
  {
   "cell_type": "markdown",
   "metadata": {},
   "source": [
    "## Data Spliting"
   ]
  },
  {
   "cell_type": "code",
   "execution_count": 9,
   "metadata": {},
   "outputs": [],
   "source": [
    "data1 = np.asarray(data_).reshape(3000,20,8,1)"
   ]
  },
  {
   "cell_type": "code",
   "execution_count": 11,
   "metadata": {},
   "outputs": [],
   "source": [
    "# Train Test Split \n",
    "from sklearn.model_selection import train_test_split\n",
    "train_x,val_x,train_y,val_y = train_test_split(np.asarray(data1),labels,test_size=0.1)"
   ]
  },
  {
   "cell_type": "code",
   "execution_count": 12,
   "metadata": {},
   "outputs": [
    {
     "data": {
      "text/plain": [
       "(2700, 20, 8, 1)"
      ]
     },
     "execution_count": 12,
     "metadata": {},
     "output_type": "execute_result"
    }
   ],
   "source": [
    "train_x.shape"
   ]
  },
  {
   "cell_type": "markdown",
   "metadata": {},
   "source": [
    "## Model Preparation"
   ]
  },
  {
   "cell_type": "code",
   "execution_count": 14,
   "metadata": {},
   "outputs": [],
   "source": [
    "# Model Preparation......\n",
    "\n",
    "from keras import models\n",
    "from keras import layers\n",
    "\n",
    "train_x = train_x.reshape((2700,20*8)).astype('float32')/255\n",
    "val_x = val_x.reshape((300,20*8)).astype('float32')/255\n",
    "\n",
    "model = models.Sequential()\n",
    "model.add(layers.Conv2D(32,(3,3), activation='relu', input_shape=(20,8,1)))\n",
    "model.add(layers.MaxPooling2D((2,2)))\n",
    "model.add(layers.Conv2D(32,(3,3),activation='relu'))\n",
    "model.add(layers.Flatten())\n",
    "model.add(layers.Dense(128,activation='relu'))\n",
    "model.add(layers.Dropout(0.5))\n",
    "\n",
    "model.add(layers.Dense(10,activation='softmax'))\n"
   ]
  },
  {
   "cell_type": "code",
   "execution_count": 15,
   "metadata": {},
   "outputs": [
    {
     "name": "stdout",
     "output_type": "stream",
     "text": [
      "_________________________________________________________________\n",
      "Layer (type)                 Output Shape              Param #   \n",
      "=================================================================\n",
      "conv2d_3 (Conv2D)            (None, 18, 6, 32)         320       \n",
      "_________________________________________________________________\n",
      "max_pooling2d_2 (MaxPooling2 (None, 9, 3, 32)          0         \n",
      "_________________________________________________________________\n",
      "conv2d_4 (Conv2D)            (None, 7, 1, 32)          9248      \n",
      "_________________________________________________________________\n",
      "flatten_2 (Flatten)          (None, 224)               0         \n",
      "_________________________________________________________________\n",
      "dense_3 (Dense)              (None, 128)               28800     \n",
      "_________________________________________________________________\n",
      "dropout_2 (Dropout)          (None, 128)               0         \n",
      "_________________________________________________________________\n",
      "dense_4 (Dense)              (None, 10)                1290      \n",
      "=================================================================\n",
      "Total params: 39,658\n",
      "Trainable params: 39,658\n",
      "Non-trainable params: 0\n",
      "_________________________________________________________________\n"
     ]
    }
   ],
   "source": [
    "model.summary()"
   ]
  },
  {
   "cell_type": "code",
   "execution_count": 16,
   "metadata": {},
   "outputs": [
    {
     "name": "stdout",
     "output_type": "stream",
     "text": [
      "WARNING:tensorflow:From /home/navaneeth/anaconda3/envs/VIAI/lib/python3.6/site-packages/keras/backend/tensorflow_backend.py:2857: calling reduce_sum (from tensorflow.python.ops.math_ops) with keep_dims is deprecated and will be removed in a future version.\n",
      "Instructions for updating:\n",
      "keep_dims is deprecated, use keepdims instead\n",
      "WARNING:tensorflow:From /home/navaneeth/anaconda3/envs/VIAI/lib/python3.6/site-packages/keras/backend/tensorflow_backend.py:1340: calling reduce_mean (from tensorflow.python.ops.math_ops) with keep_dims is deprecated and will be removed in a future version.\n",
      "Instructions for updating:\n",
      "keep_dims is deprecated, use keepdims instead\n"
     ]
    }
   ],
   "source": [
    "model.compile(optimizer='adam',loss='categorical_crossentropy',metrics=['accuracy'])"
   ]
  },
  {
   "cell_type": "code",
   "execution_count": 90,
   "metadata": {},
   "outputs": [
    {
     "name": "stdout",
     "output_type": "stream",
     "text": [
      "Train on 2700 samples, validate on 300 samples\n",
      "Epoch 1/50\n",
      "2700/2700 [==============================] - 2s 702us/step - loss: 2.0229 - acc: 0.3626 - val_loss: 1.1814 - val_acc: 0.6233\n",
      "Epoch 2/50\n",
      "2700/2700 [==============================] - 1s 293us/step - loss: 1.0207 - acc: 0.6481 - val_loss: 0.7892 - val_acc: 0.7333\n",
      "Epoch 3/50\n",
      "2700/2700 [==============================] - 1s 251us/step - loss: 0.7276 - acc: 0.7519 - val_loss: 0.6773 - val_acc: 0.7900\n",
      "Epoch 4/50\n",
      "2700/2700 [==============================] - 1s 244us/step - loss: 0.5941 - acc: 0.7881 - val_loss: 0.5767 - val_acc: 0.8067\n",
      "Epoch 5/50\n",
      "2700/2700 [==============================] - 1s 234us/step - loss: 0.5056 - acc: 0.8222 - val_loss: 0.5441 - val_acc: 0.8200\n",
      "Epoch 6/50\n",
      "2700/2700 [==============================] - 1s 229us/step - loss: 0.4740 - acc: 0.8341 - val_loss: 0.4997 - val_acc: 0.8500\n",
      "Epoch 7/50\n",
      "2700/2700 [==============================] - 1s 260us/step - loss: 0.4015 - acc: 0.8615 - val_loss: 0.4934 - val_acc: 0.8500\n",
      "Epoch 8/50\n",
      "2700/2700 [==============================] - 1s 308us/step - loss: 0.3656 - acc: 0.8711 - val_loss: 0.4937 - val_acc: 0.8700\n",
      "Epoch 9/50\n",
      "2700/2700 [==============================] - 1s 232us/step - loss: 0.3358 - acc: 0.8800 - val_loss: 0.4494 - val_acc: 0.8633\n",
      "Epoch 10/50\n",
      "2700/2700 [==============================] - 1s 246us/step - loss: 0.3180 - acc: 0.8885 - val_loss: 0.4705 - val_acc: 0.8700\n",
      "Epoch 11/50\n",
      "2700/2700 [==============================] - 1s 234us/step - loss: 0.2822 - acc: 0.9033 - val_loss: 0.4389 - val_acc: 0.8900\n",
      "Epoch 12/50\n",
      "2700/2700 [==============================] - 1s 234us/step - loss: 0.2653 - acc: 0.9070 - val_loss: 0.4432 - val_acc: 0.8833\n",
      "Epoch 13/50\n",
      "2700/2700 [==============================] - 1s 256us/step - loss: 0.2549 - acc: 0.9107 - val_loss: 0.4182 - val_acc: 0.8867\n",
      "Epoch 14/50\n",
      "2700/2700 [==============================] - 1s 236us/step - loss: 0.2434 - acc: 0.9193 - val_loss: 0.4565 - val_acc: 0.8733\n",
      "Epoch 15/50\n",
      "2700/2700 [==============================] - 1s 241us/step - loss: 0.2281 - acc: 0.9178 - val_loss: 0.3998 - val_acc: 0.9067\n",
      "Epoch 16/50\n",
      "2700/2700 [==============================] - 1s 235us/step - loss: 0.2020 - acc: 0.9278 - val_loss: 0.4038 - val_acc: 0.9033\n",
      "Epoch 17/50\n",
      "2700/2700 [==============================] - 1s 232us/step - loss: 0.1903 - acc: 0.9337 - val_loss: 0.4399 - val_acc: 0.8833\n",
      "Epoch 18/50\n",
      "2700/2700 [==============================] - 1s 233us/step - loss: 0.1937 - acc: 0.9300 - val_loss: 0.3823 - val_acc: 0.8933\n",
      "Epoch 19/50\n",
      "2700/2700 [==============================] - 1s 234us/step - loss: 0.1793 - acc: 0.9393 - val_loss: 0.4747 - val_acc: 0.8867\n",
      "Epoch 20/50\n",
      "2700/2700 [==============================] - 1s 233us/step - loss: 0.1696 - acc: 0.9396 - val_loss: 0.3678 - val_acc: 0.9067\n",
      "Epoch 21/50\n",
      "2700/2700 [==============================] - 1s 238us/step - loss: 0.1587 - acc: 0.9441 - val_loss: 0.4011 - val_acc: 0.9000\n",
      "Epoch 22/50\n",
      "2700/2700 [==============================] - 1s 230us/step - loss: 0.1598 - acc: 0.9415 - val_loss: 0.4370 - val_acc: 0.9033\n",
      "Epoch 23/50\n",
      "2700/2700 [==============================] - 1s 234us/step - loss: 0.1435 - acc: 0.9485 - val_loss: 0.3857 - val_acc: 0.9133\n",
      "Epoch 24/50\n",
      "2700/2700 [==============================] - 1s 234us/step - loss: 0.1328 - acc: 0.9541 - val_loss: 0.4276 - val_acc: 0.9033\n",
      "Epoch 25/50\n",
      "2700/2700 [==============================] - 1s 234us/step - loss: 0.1582 - acc: 0.9441 - val_loss: 0.3924 - val_acc: 0.9033\n",
      "Epoch 26/50\n",
      "2700/2700 [==============================] - 1s 236us/step - loss: 0.1223 - acc: 0.9570 - val_loss: 0.4273 - val_acc: 0.8933\n",
      "Epoch 27/50\n",
      "2700/2700 [==============================] - 1s 236us/step - loss: 0.1186 - acc: 0.9574 - val_loss: 0.4166 - val_acc: 0.9067\n",
      "Epoch 28/50\n",
      "2700/2700 [==============================] - 1s 239us/step - loss: 0.1239 - acc: 0.9578 - val_loss: 0.4653 - val_acc: 0.9000\n",
      "Epoch 29/50\n",
      "2700/2700 [==============================] - 1s 241us/step - loss: 0.0978 - acc: 0.9693 - val_loss: 0.4344 - val_acc: 0.9033\n",
      "Epoch 30/50\n",
      "2700/2700 [==============================] - 1s 246us/step - loss: 0.0914 - acc: 0.9704 - val_loss: 0.4557 - val_acc: 0.8933\n",
      "Epoch 31/50\n",
      "2700/2700 [==============================] - 1s 239us/step - loss: 0.0896 - acc: 0.9715 - val_loss: 0.4826 - val_acc: 0.8867\n",
      "Epoch 32/50\n",
      "2700/2700 [==============================] - 1s 256us/step - loss: 0.1152 - acc: 0.9619 - val_loss: 0.5002 - val_acc: 0.8900\n",
      "Epoch 33/50\n",
      "2700/2700 [==============================] - 1s 239us/step - loss: 0.0929 - acc: 0.9711 - val_loss: 0.4845 - val_acc: 0.8933\n",
      "Epoch 34/50\n",
      "2700/2700 [==============================] - 1s 242us/step - loss: 0.0815 - acc: 0.9737 - val_loss: 0.4453 - val_acc: 0.9133\n",
      "Epoch 35/50\n",
      "2700/2700 [==============================] - 1s 236us/step - loss: 0.0774 - acc: 0.9744 - val_loss: 0.4916 - val_acc: 0.9000\n",
      "Epoch 36/50\n",
      "2700/2700 [==============================] - 1s 250us/step - loss: 0.0706 - acc: 0.9785 - val_loss: 0.4790 - val_acc: 0.9067\n",
      "Epoch 37/50\n",
      "2700/2700 [==============================] - 1s 247us/step - loss: 0.0729 - acc: 0.9756 - val_loss: 0.4540 - val_acc: 0.9233\n",
      "Epoch 38/50\n",
      "2700/2700 [==============================] - 1s 267us/step - loss: 0.0721 - acc: 0.9763 - val_loss: 0.5309 - val_acc: 0.9100\n",
      "Epoch 39/50\n",
      "2700/2700 [==============================] - 1s 355us/step - loss: 0.0648 - acc: 0.9785 - val_loss: 0.4702 - val_acc: 0.8933\n",
      "Epoch 40/50\n",
      "2700/2700 [==============================] - 1s 286us/step - loss: 0.0608 - acc: 0.9815 - val_loss: 0.4005 - val_acc: 0.9300\n",
      "Epoch 41/50\n",
      "2700/2700 [==============================] - 1s 257us/step - loss: 0.0675 - acc: 0.9781 - val_loss: 0.4834 - val_acc: 0.9233\n",
      "Epoch 42/50\n",
      "2700/2700 [==============================] - 1s 262us/step - loss: 0.0565 - acc: 0.9800 - val_loss: 0.5284 - val_acc: 0.9100\n",
      "Epoch 43/50\n",
      "2700/2700 [==============================] - 1s 263us/step - loss: 0.0541 - acc: 0.9807 - val_loss: 0.5182 - val_acc: 0.8767\n",
      "Epoch 44/50\n",
      "2700/2700 [==============================] - 1s 266us/step - loss: 0.0655 - acc: 0.9785 - val_loss: 0.4925 - val_acc: 0.9100\n",
      "Epoch 45/50\n",
      "2700/2700 [==============================] - 1s 256us/step - loss: 0.0548 - acc: 0.9837 - val_loss: 0.4378 - val_acc: 0.9067\n",
      "Epoch 46/50\n",
      "2700/2700 [==============================] - 1s 273us/step - loss: 0.0585 - acc: 0.9796 - val_loss: 0.5718 - val_acc: 0.8967\n",
      "Epoch 47/50\n",
      "2700/2700 [==============================] - 1s 267us/step - loss: 0.0698 - acc: 0.9770 - val_loss: 0.5483 - val_acc: 0.8967\n",
      "Epoch 48/50\n",
      "2700/2700 [==============================] - 1s 266us/step - loss: 0.0561 - acc: 0.9811 - val_loss: 0.5136 - val_acc: 0.9167\n",
      "Epoch 49/50\n",
      "2700/2700 [==============================] - 1s 262us/step - loss: 0.0593 - acc: 0.9815 - val_loss: 0.5119 - val_acc: 0.9067\n",
      "Epoch 50/50\n",
      "2700/2700 [==============================] - 1s 253us/step - loss: 0.0360 - acc: 0.9896 - val_loss: 0.4665 - val_acc: 0.9200\n"
     ]
    }
   ],
   "source": [
    "history = model.fit(train_x,train_y,epochs=50,batch_size=64,validation_data=(val_x,val_y))"
   ]
  },
  {
   "cell_type": "markdown",
   "metadata": {},
   "source": [
    "## Saving Model"
   ]
  },
  {
   "cell_type": "code",
   "execution_count": null,
   "metadata": {},
   "outputs": [],
   "source": [
    "model.save('SRD')"
   ]
  }
 ],
 "metadata": {
  "kernelspec": {
   "display_name": "Python 3.6.9 64-bit ('VIAI': conda)",
   "language": "python",
   "name": "python36964bitviaicondad67a75aa1a5a45afa108f3e07c66361d"
  },
  "language_info": {
   "codemirror_mode": {
    "name": "ipython",
    "version": 3
   },
   "file_extension": ".py",
   "mimetype": "text/x-python",
   "name": "python",
   "nbconvert_exporter": "python",
   "pygments_lexer": "ipython3",
   "version": "3.6.9"
  }
 },
 "nbformat": 4,
 "nbformat_minor": 4
}
